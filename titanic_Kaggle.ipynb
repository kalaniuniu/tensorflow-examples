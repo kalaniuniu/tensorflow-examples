{
  "nbformat": 4,
  "nbformat_minor": 0,
  "metadata": {
    "colab": {
      "name": "titanic-Kaggle.ipynb",
      "version": "0.3.2",
      "provenance": [],
      "collapsed_sections": [],
      "include_colab_link": true
    },
    "kernelspec": {
      "name": "python3",
      "display_name": "Python 3"
    }
  },
  "cells": [
    {
      "cell_type": "markdown",
      "metadata": {
        "id": "view-in-github",
        "colab_type": "text"
      },
      "source": [
        "[View in Colaboratory](https://colab.research.google.com/github/kalaniuniu/tensorflow-examples/blob/master/titanic_Kaggle.ipynb)"
      ]
    },
    {
      "metadata": {
        "id": "5zPGHCQ2zkHR",
        "colab_type": "code",
        "colab": {}
      },
      "cell_type": "code",
      "source": [
        "from google.colab import auth\n",
        "auth.authenticate_user()\n",
        "\n",
        "from googleapiclient.discovery import build\n",
        "drive_service = build('drive', 'v3')"
      ],
      "execution_count": 0,
      "outputs": []
    },
    {
      "metadata": {
        "id": "XW4V6MNs2tSe",
        "colab_type": "code",
        "colab": {}
      },
      "cell_type": "code",
      "source": [
        "import numpy as np\n",
        "import pandas as pd\n",
        "import tensorflow as tf\n",
        "import matplotlib.pyplot as plt"
      ],
      "execution_count": 0,
      "outputs": []
    },
    {
      "metadata": {
        "id": "hW90A2YQ0K4M",
        "colab_type": "code",
        "colab": {}
      },
      "cell_type": "code",
      "source": [
        "# Download the file we just uploaded.\n",
        "#\n",
        "# Replace the assignment below with your file ID\n",
        "# to download a different file.\n",
        "#\n",
        "# A file ID looks like: 1uBtlaggVyWshwcyP6kEI-y_W3P8D26sz\n",
        "#test.csv\n",
        "file_id = '1l_FsQ9DHN2hW7ArhfEpKoLF1XtrbFPyb'\n",
        "\n",
        "import io\n",
        "from googleapiclient.http import MediaIoBaseDownload\n",
        "\n",
        "request = drive_service.files().get_media(fileId=file_id)\n",
        "downloaded = io.BytesIO()\n",
        "downloader = MediaIoBaseDownload(downloaded, request)\n",
        "done = False\n",
        "while done is False:\n",
        "  # _ is a placeholder for a progress object that we ignore.\n",
        "  # (Our file is small, so we skip reporting progress.)\n",
        "  _, done = downloader.next_chunk()\n",
        "\n",
        "downloaded.seek(0)\n",
        "test=pd.read_csv(downloaded)\n",
        "\n",
        "#print('Downloaded file contents are: {}'.format(downloaded.read()))"
      ],
      "execution_count": 0,
      "outputs": []
    },
    {
      "metadata": {
        "id": "ixbXte1z3MvZ",
        "colab_type": "code",
        "colab": {}
      },
      "cell_type": "code",
      "source": [
        "file_id2 = '1lnU2jE4YYUn2BW3MXMkJa5mNA_pGrq6P'\n",
        "\n",
        "request = drive_service.files().get_media(fileId=file_id2)\n",
        "downloaded = io.BytesIO()\n",
        "downloader = MediaIoBaseDownload(downloaded, request)\n",
        "done = False\n",
        "while done is False:\n",
        "  _, done = downloader.next_chunk()\n",
        "\n",
        "downloaded.seek(0)\n",
        "data=pd.read_csv(downloaded)"
      ],
      "execution_count": 0,
      "outputs": []
    },
    {
      "metadata": {
        "id": "sCneEUY-3txv",
        "colab_type": "code",
        "colab": {}
      },
      "cell_type": "code",
      "source": [
        "#gender file\n",
        "file_id3 = '1QVkwONqLWXYorcVINRiMJ6OTlTJtDuHj'\n",
        "\n",
        "request = drive_service.files().get_media(fileId=file_id3)\n",
        "downloaded = io.BytesIO()\n",
        "downloader = MediaIoBaseDownload(downloaded, request)\n",
        "done = False\n",
        "while done is False:\n",
        "  _, done = downloader.next_chunk()\n",
        "\n",
        "downloaded.seek(0)\n",
        "genderfile=pd.read_csv(downloaded)"
      ],
      "execution_count": 0,
      "outputs": []
    },
    {
      "metadata": {
        "id": "PjP349YY6Es6",
        "colab_type": "code",
        "colab": {}
      },
      "cell_type": "code",
      "source": [
        "#data"
      ],
      "execution_count": 0,
      "outputs": []
    },
    {
      "metadata": {
        "id": "_5Cy28Ja5zBK",
        "colab_type": "code",
        "colab": {}
      },
      "cell_type": "code",
      "source": [
        "#data = data['Survived', \"Pclass\", \"Sex\", \"Age\", \"SibSp\", \"Parch\", \"Fare\", \"Cabin\", \"Embarked\"]\n",
        "data=data[['Survived','Pclass','Sex','Age','SibSp','Parch','Fare','Cabin','Embarked']].copy()\n",
        "data[\"Age\"] = data[\"Age\"].fillna(data[\"Age\"].mean())\n",
        "data[\"Cabin\"]=pd.factorize(data.Cabin)[0]\n",
        "data.fillna(0, inplace=True)\n",
        "#one hot\n",
        "data[\"Sex\"] = [1 if x == \"male\" else 0 for x in data.Sex]\n",
        "data[\"p1\"] = np.array(data[\"Pclass\"] == 1).astype(np.int32)\n",
        "data[\"p2\"] = np.array(data[\"Pclass\"] == 2).astype(np.int32)\n",
        "data[\"p3\"] = np.array(data[\"Pclass\"] == 3).astype(np.int32)\n",
        "del data[\"Pclass\"]\n",
        "\n",
        "#data.Embarked.unique()  # return 3 type\n",
        "data[\"e1\"] = np.array(data[\"Embarked\"] == 1).astype(np.int32)\n",
        "data[\"e2\"] = np.array(data[\"Embarked\"] == 2).astype(np.int32)\n",
        "data[\"e3\"] = np.array(data[\"Embarked\"] == 3).astype(np.int32)\n",
        "del data[\"Embarked\"]\n",
        "\n",
        "data_train = data[[\"Sex\", \"Age\", \"SibSp\", \"Parch\", \"Fare\", \"Cabin\", \"p1\", \"p2\", \"p3\", \"e1\", \"e2\", \"e3\"]]\n",
        "data_train=np.array(data_train)\n",
        "data_target = data[\"Survived\"].values.reshape(len(data), 1)"
      ],
      "execution_count": 0,
      "outputs": []
    },
    {
      "metadata": {
        "id": "V7N_lAhK2hiS",
        "colab_type": "code",
        "colab": {}
      },
      "cell_type": "code",
      "source": [
        "#tf\n",
        "x = tf.placeholder(\"float\", shape=[None, 12])\n",
        "y = tf.placeholder(\"float\", shape=[None, 1])\n",
        "\n",
        "weight = tf.Variable(tf.random_normal([12, 1]))\n",
        "bias = tf.Variable(tf.random_normal([1]))\n",
        "output =tf.matmul(x, weight) + bias\n",
        "pred = tf.cast(tf.sigmoid(output) > 0.5, tf.float32)\n",
        "\n",
        "loss = tf.reduce_mean(tf.nn.sigmoid_cross_entropy_with_logits(labels=y, logits=output))\n",
        "\n",
        "train_step = tf.train.GradientDescentOptimizer(0.001).minimize(loss)\n",
        "accuracy = tf.reduce_mean(tf.cast(tf.equal(pred, y), tf.float32))"
      ],
      "execution_count": 0,
      "outputs": []
    },
    {
      "metadata": {
        "id": "gGyBCRYP2r84",
        "colab_type": "code",
        "colab": {}
      },
      "cell_type": "code",
      "source": [
        "#test\n",
        "data_test = test[[\"Pclass\", \"Sex\", \"SibSp\", \"Parch\", \"Fare\", \"Cabin\", \"Embarked\",\"Age\"]].copy()\n",
        "data_test[\"Age\"] = data_test[\"Age\"].fillna(data_test[\"Age\"].mean())\n",
        "data_test[\"Cabin\"] = pd.factorize(data_test.Cabin)[0]\n",
        "#one hot\n",
        "data_test[\"Sex\"] = [1 if x == \"male\" else 0 for x in data_test.Sex]\n",
        "data_test[\"p1\"] = np.array(data_test[\"Pclass\"] == 1).astype(np.int32)\n",
        "data_test[\"p2\"] = np.array(data_test[\"Pclass\"] == 2).astype(np.int32)\n",
        "data_test[\"p3\"] = np.array(data_test[\"Pclass\"] == 3).astype(np.int32)\n",
        "del data_test[\"Pclass\"]\n",
        "#data.Embarked.unique()  # return 3 type\n",
        "data_test[\"e1\"] = np.array(data_test[\"Embarked\"] == 1).astype(np.int32)\n",
        "data_test[\"e2\"] = np.array(data_test[\"Embarked\"] == 2).astype(np.int32)\n",
        "data_test[\"e3\"] = np.array(data_test[\"Embarked\"] == 3).astype(np.int32)\n",
        "del data_test[\"Embarked\"]\n",
        "\n",
        "test_lable=genderfile\n",
        "test_lable = np.reshape(test_lable.Survived.values.astype(np.float32), (418, 1))\n"
      ],
      "execution_count": 0,
      "outputs": []
    },
    {
      "metadata": {
        "id": "Kzvn-5fX5XaT",
        "colab_type": "code",
        "colab": {}
      },
      "cell_type": "code",
      "source": [
        "sess = tf.Session()\n",
        "sess.run(tf.global_variables_initializer())\n",
        "loss_train = []\n",
        "train_acc = []\n",
        "test_acc = []"
      ],
      "execution_count": 0,
      "outputs": []
    },
    {
      "metadata": {
        "id": "rsdQov4H5bIh",
        "colab_type": "code",
        "colab": {
          "base_uri": "https://localhost:8080/",
          "height": 442
        },
        "outputId": "15fc6630-4179-4d29-b7e1-fecef3b1a528"
      },
      "cell_type": "code",
      "source": [
        "for i in range(25000):\n",
        "    index = np.random.permutation(len(data_target))\n",
        "    data_train=data_train[index]\n",
        "    data_target = data_target[index]    #nparrary. no sample func.\n",
        "    for n in range(len(data_target) // 100 + 1):\n",
        "        batch_xs = data_train[n * 100:n * 100 + 100]\n",
        "        batch_ys = data_target[n * 100:n * 100 + 100]\n",
        "        sess.run(train_step, feed_dict={x:batch_xs, y:batch_ys})\n",
        "    if i % 1000 == 0:\n",
        "        loss_temp = sess.run(loss, feed_dict={x: batch_xs, y: batch_ys})\n",
        "        loss_train.append(loss_temp)\n",
        "        train_acc_temp = sess.run(accuracy, feed_dict={x: batch_xs, y: batch_ys})\n",
        "        train_acc.append(train_acc_temp)\n",
        "        test_acc_temp = sess.run(accuracy, feed_dict={x: data_test, y: test_lable})\n",
        "        test_acc.append(test_acc_temp)\n",
        "        print(str(i / 1000) + \":   \", loss_temp, train_acc_temp, test_acc_temp)"
      ],
      "execution_count": 50,
      "outputs": [
        {
          "output_type": "stream",
          "text": [
            "0.0:    10.329603 0.2747253 0.3660287\n",
            "1.0:    0.5880405 0.6923077 0.3708134\n",
            "2.0:    0.5842028 0.74725276 0.37799042\n",
            "3.0:    0.4745148 0.7912088 0.6220096\n",
            "4.0:    0.50826174 0.73626375 0.6650718\n",
            "5.0:    0.4483218 0.7912088 0.7535885\n",
            "6.0:    0.5185414 0.7802198 0.93301433\n",
            "7.0:    0.46106192 0.82417583 0.8995215\n",
            "8.0:    0.36687222 0.9010989 0.8444976\n",
            "9.0:    0.4150572 0.84615386 0.80861247\n",
            "10.0:    0.4638607 0.7802198 0.8062201\n",
            "11.0:    0.5025762 0.7692308 0.7966507\n",
            "12.0:    0.44653764 0.7802198 0.77751195\n",
            "13.0:    0.41813856 0.8131868 0.78229666\n",
            "14.0:    0.4892695 0.7582418 0.7751196\n",
            "15.0:    0.52033144 0.71428573 0.7751196\n",
            "16.0:    0.46639067 0.8021978 0.7751196\n",
            "17.0:    0.42064402 0.83516484 0.7751196\n",
            "18.0:    0.4863965 0.8131868 0.77272725\n",
            "19.0:    0.46240118 0.7582418 0.77272725\n",
            "20.0:    0.44275913 0.7912088 0.78229666\n",
            "21.0:    0.5281969 0.73626375 0.784689\n",
            "22.0:    0.49533907 0.7802198 0.7751196\n",
            "23.0:    0.4536439 0.7912088 0.77272725\n",
            "24.0:    0.5386366 0.7582418 0.7631579\n"
          ],
          "name": "stdout"
        }
      ]
    },
    {
      "metadata": {
        "id": "D7uGbut36sHX",
        "colab_type": "text"
      },
      "cell_type": "markdown",
      "source": [
        "##绘图"
      ]
    },
    {
      "metadata": {
        "id": "HKfYKhPt5bqi",
        "colab_type": "code",
        "colab": {
          "base_uri": "https://localhost:8080/",
          "height": 707
        },
        "outputId": "ebd7a734-f477-43e4-950d-90da0ad25e94"
      },
      "cell_type": "code",
      "source": [
        "plt.plot(loss_train, 'k-')\n",
        "plt.title(\"tain loss\")\n",
        "plt.show()\n",
        "\n",
        "plt.plot(train_acc, 'b-', label=\"train_acc\")\n",
        "plt.plot(test_acc, 'r--', label='test_acc')\n",
        "plt.title(\"train and test acc\")\n",
        "plt.legend()\n",
        "plt.show()\n",
        "        "
      ],
      "execution_count": 52,
      "outputs": [
        {
          "output_type": "display_data",
          "data": {
            "image/png": "[encoded data removed]",
            "text/plain": [
              "<matplotlib.figure.Figure at 0x7f7225254a20>"
            ]
          },
          "metadata": {
            "tags": []
          }
        },
        {
          "output_type": "display_data",
          "data": {
            "image/png": "[encoded data removed]",
            "text/plain": [
              "<matplotlib.figure.Figure at 0x7f7225254f60>"
            ]
          },
          "metadata": {
            "tags": []
          }
        }
      ]
    }
  ]
}